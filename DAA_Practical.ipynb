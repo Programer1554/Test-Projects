{
  "nbformat": 4,
  "nbformat_minor": 0,
  "metadata": {
    "colab": {
      "provenance": [],
      "authorship_tag": "ABX9TyPVxsb+GR3eSbhcd8i9bKr0",
      "include_colab_link": true
    },
    "kernelspec": {
      "name": "python3",
      "display_name": "Python 3"
    },
    "language_info": {
      "name": "python"
    }
  },
  "cells": [
    {
      "cell_type": "markdown",
      "metadata": {
        "id": "view-in-github",
        "colab_type": "text"
      },
      "source": [
        "<a href=\"https://colab.research.google.com/github/Programer1554/Test-Projects/blob/main/DAA_Practical.ipynb\" target=\"_parent\"><img src=\"https://colab.research.google.com/assets/colab-badge.svg\" alt=\"Open In Colab\"/></a>"
      ]
    },
    {
      "cell_type": "code",
      "execution_count": 1,
      "metadata": {
        "colab": {
          "base_uri": "https://localhost:8080/"
        },
        "id": "Oo1oCpSlk-ty",
        "outputId": "d481189c-c015-4377-db9a-bd2072e0cc30"
      },
      "outputs": [
        {
          "output_type": "stream",
          "name": "stdout",
          "text": [
            "The number of operations for n = 5 is 20\n",
            "The number of operations for n = 5 is 30\n"
          ]
        }
      ],
      "source": [
        "def operation_count(n):\n",
        "  count = 0\n",
        "\n",
        "  for i in range(1, n + 1):\n",
        "    for j in range(1, i + 1):\n",
        "      count += 1\n",
        "\n",
        "  for k in range(1, n+1):\n",
        "    count += 1\n",
        "\n",
        "  return count\n",
        "\n",
        "n = 5\n",
        "operations = operation_count(n)\n",
        "print(f\"The number of operations for n = {n} is {operations}\")\n",
        "\n",
        "def operation_count2(n):\n",
        "    count = 0\n",
        "    for i in range(n):\n",
        "        count += 1\n",
        "    for j in range(n):\n",
        "        for k in range(n):\n",
        "            count += 1\n",
        "    return count\n",
        "\n",
        "n = 5\n",
        "operations = operation_count2(n)\n",
        "print(f\"The number of operations for n = {n} is {operations}\")\n"
      ]
    },
    {
      "cell_type": "code",
      "source": [
        "def bubble_sort(list_):\n",
        "  n = len(list_)\n",
        "  for i in range(n-1):\n",
        "    for j in range(n-i-1):\n",
        "      if list_[j] > list_[j+1]:\n",
        "        list_[j], list_[j+1] = list_[j+1], list_[j]\n",
        "  return list_\n",
        "\n",
        "numbers = [64, 34, 25, 12, 22, 11, 90]\n",
        "sorted_numbers = bubble_sort(numbers)\n",
        "print(f\"Sorted array: {sorted_numbers}\")\n"
      ],
      "metadata": {
        "id": "m7xogXU0lXn_"
      },
      "execution_count": null,
      "outputs": []
    },
    {
      "cell_type": "code",
      "source": [
        "# prompt:  Write a program to perform Insertion sort for any given list of numbers.\n",
        "\n",
        "def insertion_sort(list_):\n",
        "  for i in range(1, len(list_)):\n",
        "    key = list_[i]\n",
        "    j = i - 1\n",
        "    while j >= 0 and key < list_[j]:\n",
        "      list_[j + 1] = list_[j]\n",
        "      j -= 1\n",
        "    list_[j + 1] = key\n",
        "  return list_\n",
        "\n",
        "# Example usage\n",
        "numbers = [64, 34, 25, 12, 22, 11, 90]\n",
        "sorted_numbers = insertion_sort(numbers)\n",
        "print(f\"Sorted array: {sorted_numbers}\")\n"
      ],
      "metadata": {
        "id": "1tSamhz7lbrA"
      },
      "execution_count": null,
      "outputs": []
    },
    {
      "cell_type": "code",
      "source": [
        "def quick_sort(list_):\n",
        "    if len(list_) < 2:\n",
        "        return list_\n",
        "    else:\n",
        "        pivot = list_[0]\n",
        "        less = [i for i in list_[1:] if i <= pivot]\n",
        "        greater = [i for i in list_[1:] if i > pivot]\n",
        "        return quick_sort(less) + [pivot] + quick_sort(greater)\n",
        "\n",
        "numbers = [64, 34, 25, 12, 22, 11, 90]\n",
        "sorted_numbers = quick_sort(numbers)\n",
        "print(f\"Sorted array: {sorted_numbers}\")\n"
      ],
      "metadata": {
        "id": "c2bpWeGqleN1"
      },
      "execution_count": null,
      "outputs": []
    },
    {
      "cell_type": "code",
      "source": [
        "def find_min_max(numbers):\n",
        "    if not numbers:\n",
        "        return None, None\n",
        "\n",
        "    min_val = numbers[0]\n",
        "    max_val = numbers[0]\n",
        "\n",
        "    for number in numbers:\n",
        "        if number < min_val:\n",
        "            min_val = number\n",
        "        if number > max_val:\n",
        "            max_val = number\n",
        "\n",
        "    return min_val, max_val\n",
        "\n",
        "numbers = [3, 1, 4, 1, 5, 9, 2, 6]\n",
        "min_value, max_value = find_min_max(numbers)\n",
        "\n",
        "if min_value is not None and max_value is not None:\n",
        "    print(f\"Minimum value: {min_value}\")\n",
        "    print(f\"Maximum value: {max_value}\")\n",
        "else:\n",
        "    print(\"The list is empty.\")\n"
      ],
      "metadata": {
        "id": "gILQ_ESvlhkH"
      },
      "execution_count": null,
      "outputs": []
    },
    {
      "cell_type": "code",
      "source": [
        "def merge_sort(list1, list2):\n",
        "\n",
        "    merged_list = []\n",
        "    i = 0\n",
        "    j = 0\n",
        "\n",
        "    while i < len(list1) and j < len(list2):\n",
        "        if list1[i] <= list2[j]:\n",
        "            merged_list.append(list1[i])\n",
        "            i += 1\n",
        "        else:\n",
        "            merged_list.append(list2[j])\n",
        "            j += 1\n",
        "\n",
        "    while i < len(list1):\n",
        "        merged_list.append(list1[i])\n",
        "        i += 1\n",
        "\n",
        "    while j < len(list2):\n",
        "        merged_list.append(list2[j])\n",
        "        j += 1\n",
        "\n",
        "    return merged_list\n",
        "\n",
        "list1 = [2, 5, 8, 12]\n",
        "list2 = [1, 3, 7, 9, 10]\n",
        "\n",
        "merged_list = merge_sort(list1, list2)\n",
        "print(f\"Merged and sorted list: {merged_list}\")\n"
      ],
      "metadata": {
        "id": "17hhNLzrllG5"
      },
      "execution_count": null,
      "outputs": []
    },
    {
      "cell_type": "code",
      "source": [
        "def binary_search_recursive(arr, low, high, x):\n",
        "    if high >= low:\n",
        "        mid = (high + low) // 2\n",
        "        if arr[mid] == x:\n",
        "            return mid\n",
        "        elif arr[mid] > x:\n",
        "            return binary_search_recursive(arr, low, mid - 1, x)\n",
        "        else:\n",
        "            return binary_search_recursive(arr, mid + 1, high, x)\n",
        "    else:\n",
        "        return -1\n",
        "\n",
        "def binary_search_iterative(arr, x):\n",
        "    low = 0\n",
        "    high = len(arr) - 1\n",
        "    mid = 0\n",
        "    while low <= high:\n",
        "        mid = (high + low) // 2\n",
        "        if arr[mid] < x:\n",
        "            low = mid + 1\n",
        "        elif arr[mid] > x:\n",
        "            high = mid - 1\n",
        "        else:\n",
        "            return mid\n",
        "    return -1\n",
        "\n",
        "arr = [2, 3, 4, 10, 40]\n",
        "x = 10\n",
        "\n",
        "result_recursive = binary_search_recursive(arr, 0, len(arr) - 1, x)\n",
        "if result_recursive != -1:\n",
        "    print(\"Element is present at index\", str(result_recursive), \"using recursive search\")\n",
        "else:\n",
        "    print(\"Element is not present in array using recursive search\")\n",
        "\n",
        "result_iterative = binary_search_iterative(arr, x)\n",
        "if result_iterative != -1:\n",
        "    print(\"Element is present at index\", str(result_iterative), \"using iterative search\")\n",
        "else:\n",
        "    print(\"Element is not present in array using iterative search\")\n"
      ],
      "metadata": {
        "id": "WwVIxr85luke"
      },
      "execution_count": null,
      "outputs": []
    }
  ]
}